{
 "cells": [
  {
   "cell_type": "code",
   "execution_count": 1,
   "id": "7d6aa274-8de9-4db2-9c86-050896f58099",
   "metadata": {},
   "outputs": [],
   "source": [
    "import json\n",
    "import pandas as pd"
   ]
  },
  {
   "cell_type": "code",
   "execution_count": 7,
   "id": "76d038d4-c3f2-45c5-bf2f-a971b6f7c53b",
   "metadata": {},
   "outputs": [],
   "source": [
    "# create dummy data\n",
    "data = {\n",
    "    'id': [0, 1, 2, 3, 4, 5],\n",
    "    'plz': [1942, 26551, 32004, 38481, 77601, 82110]\n",
    "}\n",
    "\n",
    "df = pd.DataFrame(\n",
    "    data=data\n",
    ")"
   ]
  },
  {
   "cell_type": "code",
   "execution_count": 9,
   "id": "f3245a83-dc53-4376-af64-5628df6ff0d1",
   "metadata": {},
   "outputs": [],
   "source": [
    "# load json\n",
    "with open('german_zipcodes.json') as f:\n",
    "    german_zipcodes = json.load(f)"
   ]
  },
  {
   "cell_type": "code",
   "execution_count": 10,
   "id": "ed008b2d-e898-4c1f-bd93-318128fed176",
   "metadata": {},
   "outputs": [],
   "source": [
    "# add column Bundesland\n",
    "df['bundesland'] = 'Keine Information'\n",
    "for bundesland, zipcodes in german_zipcodes.items():\n",
    "    for zipcode in zipcodes:\n",
    "        df.loc[\n",
    "            df['plz'].between(zipcode[0], zipcode[1]), 'bunedsland'] = bundesland"
   ]
  },
  {
   "cell_type": "code",
   "execution_count": 11,
   "id": "1e8de145-d525-4f3d-a749-ea691438abd3",
   "metadata": {},
   "outputs": [
    {
     "data": {
      "text/html": [
       "<div>\n",
       "<style scoped>\n",
       "    .dataframe tbody tr th:only-of-type {\n",
       "        vertical-align: middle;\n",
       "    }\n",
       "\n",
       "    .dataframe tbody tr th {\n",
       "        vertical-align: top;\n",
       "    }\n",
       "\n",
       "    .dataframe thead th {\n",
       "        text-align: right;\n",
       "    }\n",
       "</style>\n",
       "<table border=\"1\" class=\"dataframe\">\n",
       "  <thead>\n",
       "    <tr style=\"text-align: right;\">\n",
       "      <th></th>\n",
       "      <th>id</th>\n",
       "      <th>plz</th>\n",
       "      <th>bundesland</th>\n",
       "      <th>bunedsland</th>\n",
       "    </tr>\n",
       "  </thead>\n",
       "  <tbody>\n",
       "    <tr>\n",
       "      <th>0</th>\n",
       "      <td>0</td>\n",
       "      <td>1942</td>\n",
       "      <td>Keine Information</td>\n",
       "      <td>Brandenburg</td>\n",
       "    </tr>\n",
       "    <tr>\n",
       "      <th>1</th>\n",
       "      <td>1</td>\n",
       "      <td>26551</td>\n",
       "      <td>Keine Information</td>\n",
       "      <td>Niedersachsen</td>\n",
       "    </tr>\n",
       "    <tr>\n",
       "      <th>2</th>\n",
       "      <td>2</td>\n",
       "      <td>32004</td>\n",
       "      <td>Keine Information</td>\n",
       "      <td>NordrheinWestfalen</td>\n",
       "    </tr>\n",
       "    <tr>\n",
       "      <th>3</th>\n",
       "      <td>3</td>\n",
       "      <td>38481</td>\n",
       "      <td>Keine Information</td>\n",
       "      <td>SachsenAnhalt</td>\n",
       "    </tr>\n",
       "    <tr>\n",
       "      <th>4</th>\n",
       "      <td>4</td>\n",
       "      <td>77601</td>\n",
       "      <td>Keine Information</td>\n",
       "      <td>BadenWuerttemberg</td>\n",
       "    </tr>\n",
       "    <tr>\n",
       "      <th>5</th>\n",
       "      <td>5</td>\n",
       "      <td>82110</td>\n",
       "      <td>Keine Information</td>\n",
       "      <td>Bayern</td>\n",
       "    </tr>\n",
       "  </tbody>\n",
       "</table>\n",
       "</div>"
      ],
      "text/plain": [
       "   id    plz         bundesland          bunedsland\n",
       "0   0   1942  Keine Information         Brandenburg\n",
       "1   1  26551  Keine Information       Niedersachsen\n",
       "2   2  32004  Keine Information  NordrheinWestfalen\n",
       "3   3  38481  Keine Information       SachsenAnhalt\n",
       "4   4  77601  Keine Information   BadenWuerttemberg\n",
       "5   5  82110  Keine Information              Bayern"
      ]
     },
     "execution_count": 11,
     "metadata": {},
     "output_type": "execute_result"
    }
   ],
   "source": [
    "df"
   ]
  },
  {
   "cell_type": "code",
   "execution_count": null,
   "id": "1a824c2b-3bf8-457c-bfd2-09114c54588d",
   "metadata": {},
   "outputs": [],
   "source": []
  }
 ],
 "metadata": {
  "kernelspec": {
   "display_name": "Python 3 (ipykernel)",
   "language": "python",
   "name": "python3"
  },
  "language_info": {
   "codemirror_mode": {
    "name": "ipython",
    "version": 3
   },
   "file_extension": ".py",
   "mimetype": "text/x-python",
   "name": "python",
   "nbconvert_exporter": "python",
   "pygments_lexer": "ipython3",
   "version": "3.8.12"
  }
 },
 "nbformat": 4,
 "nbformat_minor": 5
}
